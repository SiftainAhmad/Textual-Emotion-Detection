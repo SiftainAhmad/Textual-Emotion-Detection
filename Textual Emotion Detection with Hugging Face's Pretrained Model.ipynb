{
 "cells": [
  {
   "cell_type": "markdown",
   "metadata": {},
   "source": [
    "# Textual Emotion Detection with Hugging Face's Pretrained Model"
   ]
  },
  {
   "cell_type": "markdown",
   "metadata": {},
   "source": [
    "### Installing transformers and datasets"
   ]
  },
  {
   "cell_type": "code",
   "execution_count": 66,
   "metadata": {
    "_cell_guid": "b1076dfc-b9ad-4769-8c92-a6c4dae69d19",
    "_uuid": "8f2839f25d086af736a60e9eeb907d3b93b6e0e5",
    "execution": {
     "iopub.execute_input": "2024-03-24T19:57:13.541430Z",
     "iopub.status.busy": "2024-03-24T19:57:13.540683Z",
     "iopub.status.idle": "2024-03-24T19:57:38.011352Z",
     "shell.execute_reply": "2024-03-24T19:57:38.010212Z",
     "shell.execute_reply.started": "2024-03-24T19:57:13.541379Z"
    }
   },
   "outputs": [
    {
     "name": "stderr",
     "output_type": "stream",
     "text": [
      "huggingface/tokenizers: The current process just got forked, after parallelism has already been used. Disabling parallelism to avoid deadlocks...\n",
      "To disable this warning, you can either:\n",
      "\t- Avoid using `tokenizers` before the fork if possible\n",
      "\t- Explicitly set the environment variable TOKENIZERS_PARALLELISM=(true | false)\n"
     ]
    },
    {
     "name": "stdout",
     "output_type": "stream",
     "text": [
      "Requirement already satisfied: transformers in /opt/conda/lib/python3.10/site-packages (4.38.2)\n",
      "Requirement already satisfied: filelock in /opt/conda/lib/python3.10/site-packages (from transformers) (3.13.1)\n",
      "Requirement already satisfied: huggingface-hub<1.0,>=0.19.3 in /opt/conda/lib/python3.10/site-packages (from transformers) (0.21.4)\n",
      "Requirement already satisfied: numpy>=1.17 in /opt/conda/lib/python3.10/site-packages (from transformers) (1.26.4)\n",
      "Requirement already satisfied: packaging>=20.0 in /opt/conda/lib/python3.10/site-packages (from transformers) (21.3)\n",
      "Requirement already satisfied: pyyaml>=5.1 in /opt/conda/lib/python3.10/site-packages (from transformers) (6.0.1)\n",
      "Requirement already satisfied: regex!=2019.12.17 in /opt/conda/lib/python3.10/site-packages (from transformers) (2023.12.25)\n",
      "Requirement already satisfied: requests in /opt/conda/lib/python3.10/site-packages (from transformers) (2.31.0)\n",
      "Requirement already satisfied: tokenizers<0.19,>=0.14 in /opt/conda/lib/python3.10/site-packages (from transformers) (0.15.2)\n",
      "Requirement already satisfied: safetensors>=0.4.1 in /opt/conda/lib/python3.10/site-packages (from transformers) (0.4.2)\n",
      "Requirement already satisfied: tqdm>=4.27 in /opt/conda/lib/python3.10/site-packages (from transformers) (4.66.1)\n",
      "Requirement already satisfied: fsspec>=2023.5.0 in /opt/conda/lib/python3.10/site-packages (from huggingface-hub<1.0,>=0.19.3->transformers) (2024.3.0)\n",
      "Requirement already satisfied: typing-extensions>=3.7.4.3 in /opt/conda/lib/python3.10/site-packages (from huggingface-hub<1.0,>=0.19.3->transformers) (4.9.0)\n",
      "Requirement already satisfied: pyparsing!=3.0.5,>=2.0.2 in /opt/conda/lib/python3.10/site-packages (from packaging>=20.0->transformers) (3.1.1)\n",
      "Requirement already satisfied: charset-normalizer<4,>=2 in /opt/conda/lib/python3.10/site-packages (from requests->transformers) (3.3.2)\n",
      "Requirement already satisfied: idna<4,>=2.5 in /opt/conda/lib/python3.10/site-packages (from requests->transformers) (3.6)\n",
      "Requirement already satisfied: urllib3<3,>=1.21.1 in /opt/conda/lib/python3.10/site-packages (from requests->transformers) (1.26.18)\n",
      "Requirement already satisfied: certifi>=2017.4.17 in /opt/conda/lib/python3.10/site-packages (from requests->transformers) (2024.2.2)\n"
     ]
    },
    {
     "name": "stderr",
     "output_type": "stream",
     "text": [
      "huggingface/tokenizers: The current process just got forked, after parallelism has already been used. Disabling parallelism to avoid deadlocks...\n",
      "To disable this warning, you can either:\n",
      "\t- Avoid using `tokenizers` before the fork if possible\n",
      "\t- Explicitly set the environment variable TOKENIZERS_PARALLELISM=(true | false)\n"
     ]
    },
    {
     "name": "stdout",
     "output_type": "stream",
     "text": [
      "Requirement already satisfied: datasets in /opt/conda/lib/python3.10/site-packages (2.1.0)\n",
      "Requirement already satisfied: numpy>=1.17 in /opt/conda/lib/python3.10/site-packages (from datasets) (1.26.4)\n",
      "Requirement already satisfied: pyarrow>=5.0.0 in /opt/conda/lib/python3.10/site-packages (from datasets) (11.0.0)\n",
      "Requirement already satisfied: dill in /opt/conda/lib/python3.10/site-packages (from datasets) (0.3.8)\n",
      "Requirement already satisfied: pandas in /opt/conda/lib/python3.10/site-packages (from datasets) (2.1.4)\n",
      "Requirement already satisfied: requests>=2.19.0 in /opt/conda/lib/python3.10/site-packages (from datasets) (2.31.0)\n",
      "Requirement already satisfied: tqdm>=4.62.1 in /opt/conda/lib/python3.10/site-packages (from datasets) (4.66.1)\n",
      "Requirement already satisfied: xxhash in /opt/conda/lib/python3.10/site-packages (from datasets) (3.4.1)\n",
      "Requirement already satisfied: multiprocess in /opt/conda/lib/python3.10/site-packages (from datasets) (0.70.16)\n",
      "Requirement already satisfied: fsspec>=2021.05.0 in /opt/conda/lib/python3.10/site-packages (from fsspec[http]>=2021.05.0->datasets) (2024.3.0)\n",
      "Requirement already satisfied: aiohttp in /opt/conda/lib/python3.10/site-packages (from datasets) (3.9.1)\n",
      "Requirement already satisfied: huggingface-hub<1.0.0,>=0.1.0 in /opt/conda/lib/python3.10/site-packages (from datasets) (0.21.4)\n",
      "Requirement already satisfied: packaging in /opt/conda/lib/python3.10/site-packages (from datasets) (21.3)\n",
      "Requirement already satisfied: responses<0.19 in /opt/conda/lib/python3.10/site-packages (from datasets) (0.18.0)\n",
      "Requirement already satisfied: attrs>=17.3.0 in /opt/conda/lib/python3.10/site-packages (from aiohttp->datasets) (23.2.0)\n",
      "Requirement already satisfied: multidict<7.0,>=4.5 in /opt/conda/lib/python3.10/site-packages (from aiohttp->datasets) (6.0.4)\n",
      "Requirement already satisfied: yarl<2.0,>=1.0 in /opt/conda/lib/python3.10/site-packages (from aiohttp->datasets) (1.9.3)\n",
      "Requirement already satisfied: frozenlist>=1.1.1 in /opt/conda/lib/python3.10/site-packages (from aiohttp->datasets) (1.4.1)\n",
      "Requirement already satisfied: aiosignal>=1.1.2 in /opt/conda/lib/python3.10/site-packages (from aiohttp->datasets) (1.3.1)\n",
      "Requirement already satisfied: async-timeout<5.0,>=4.0 in /opt/conda/lib/python3.10/site-packages (from aiohttp->datasets) (4.0.3)\n",
      "Requirement already satisfied: filelock in /opt/conda/lib/python3.10/site-packages (from huggingface-hub<1.0.0,>=0.1.0->datasets) (3.13.1)\n",
      "Requirement already satisfied: pyyaml>=5.1 in /opt/conda/lib/python3.10/site-packages (from huggingface-hub<1.0.0,>=0.1.0->datasets) (6.0.1)\n",
      "Requirement already satisfied: typing-extensions>=3.7.4.3 in /opt/conda/lib/python3.10/site-packages (from huggingface-hub<1.0.0,>=0.1.0->datasets) (4.9.0)\n",
      "Requirement already satisfied: pyparsing!=3.0.5,>=2.0.2 in /opt/conda/lib/python3.10/site-packages (from packaging->datasets) (3.1.1)\n",
      "Requirement already satisfied: charset-normalizer<4,>=2 in /opt/conda/lib/python3.10/site-packages (from requests>=2.19.0->datasets) (3.3.2)\n",
      "Requirement already satisfied: idna<4,>=2.5 in /opt/conda/lib/python3.10/site-packages (from requests>=2.19.0->datasets) (3.6)\n",
      "Requirement already satisfied: urllib3<3,>=1.21.1 in /opt/conda/lib/python3.10/site-packages (from requests>=2.19.0->datasets) (1.26.18)\n",
      "Requirement already satisfied: certifi>=2017.4.17 in /opt/conda/lib/python3.10/site-packages (from requests>=2.19.0->datasets) (2024.2.2)\n",
      "Requirement already satisfied: python-dateutil>=2.8.2 in /opt/conda/lib/python3.10/site-packages (from pandas->datasets) (2.9.0.post0)\n",
      "Requirement already satisfied: pytz>=2020.1 in /opt/conda/lib/python3.10/site-packages (from pandas->datasets) (2023.3.post1)\n",
      "Requirement already satisfied: tzdata>=2022.1 in /opt/conda/lib/python3.10/site-packages (from pandas->datasets) (2023.4)\n",
      "Requirement already satisfied: six>=1.5 in /opt/conda/lib/python3.10/site-packages (from python-dateutil>=2.8.2->pandas->datasets) (1.16.0)\n"
     ]
    }
   ],
   "source": [
    "!pip install transformers\n",
    "!pip install datasets"
   ]
  },
  {
   "cell_type": "markdown",
   "metadata": {},
   "source": [
    "### Checking total no of datasets available at present"
   ]
  },
  {
   "cell_type": "code",
   "execution_count": 67,
   "metadata": {
    "execution": {
     "iopub.execute_input": "2024-03-24T19:57:38.014454Z",
     "iopub.status.busy": "2024-03-24T19:57:38.014024Z",
     "iopub.status.idle": "2024-03-24T19:57:53.422887Z",
     "shell.execute_reply": "2024-03-24T19:57:53.421687Z",
     "shell.execute_reply.started": "2024-03-24T19:57:38.014392Z"
    }
   },
   "outputs": [
    {
     "name": "stdout",
     "output_type": "stream",
     "text": [
      "Total datasets hub:  123470\n"
     ]
    }
   ],
   "source": [
    "from datasets import list_datasets\n",
    "all_datasets=list_datasets()\n",
    "print(f\"Total datasets hub: \",len(all_datasets))"
   ]
  },
  {
   "cell_type": "code",
   "execution_count": 68,
   "metadata": {
    "execution": {
     "iopub.execute_input": "2024-03-24T19:57:53.425626Z",
     "iopub.status.busy": "2024-03-24T19:57:53.425240Z",
     "iopub.status.idle": "2024-03-24T19:57:53.433694Z",
     "shell.execute_reply": "2024-03-24T19:57:53.432202Z",
     "shell.execute_reply.started": "2024-03-24T19:57:53.425591Z"
    }
   },
   "outputs": [
    {
     "data": {
      "text/plain": [
       "['acronym_identification',\n",
       " 'ade_corpus_v2',\n",
       " 'UCLNLP/adversarial_qa',\n",
       " 'aeslc',\n",
       " 'afrikaans_ner_corpus']"
      ]
     },
     "execution_count": 68,
     "metadata": {},
     "output_type": "execute_result"
    }
   ],
   "source": [
    "all_datasets[:5]"
   ]
  },
  {
   "cell_type": "markdown",
   "metadata": {},
   "source": [
    "### Checking if emotion dataset is available or not"
   ]
  },
  {
   "cell_type": "code",
   "execution_count": 69,
   "metadata": {
    "execution": {
     "iopub.execute_input": "2024-03-24T19:57:53.436615Z",
     "iopub.status.busy": "2024-03-24T19:57:53.436240Z",
     "iopub.status.idle": "2024-03-24T19:57:53.443613Z",
     "shell.execute_reply": "2024-03-24T19:57:53.442561Z",
     "shell.execute_reply.started": "2024-03-24T19:57:53.436590Z"
    }
   },
   "outputs": [
    {
     "data": {
      "text/plain": [
       "True"
      ]
     },
     "execution_count": 69,
     "metadata": {},
     "output_type": "execute_result"
    }
   ],
   "source": [
    "'dair-ai/emotion' in all_datasets"
   ]
  },
  {
   "cell_type": "markdown",
   "metadata": {},
   "source": [
    "### Loading the emotion dataset"
   ]
  },
  {
   "cell_type": "code",
   "execution_count": 70,
   "metadata": {
    "execution": {
     "iopub.execute_input": "2024-03-24T19:57:53.445179Z",
     "iopub.status.busy": "2024-03-24T19:57:53.444832Z",
     "iopub.status.idle": "2024-03-24T19:57:55.052354Z",
     "shell.execute_reply": "2024-03-24T19:57:55.051348Z",
     "shell.execute_reply.started": "2024-03-24T19:57:53.445148Z"
    }
   },
   "outputs": [
    {
     "data": {
      "application/vnd.jupyter.widget-view+json": {
       "model_id": "b0554a2b56f34cff9accfe3ee9eac2ad",
       "version_major": 2,
       "version_minor": 0
      },
      "text/plain": [
       "  0%|          | 0/3 [00:00<?, ?it/s]"
      ]
     },
     "metadata": {},
     "output_type": "display_data"
    }
   ],
   "source": [
    "from datasets import load_dataset\n",
    "emotion=load_dataset('dair-ai/emotion')"
   ]
  },
  {
   "cell_type": "code",
   "execution_count": 71,
   "metadata": {
    "execution": {
     "iopub.execute_input": "2024-03-24T19:57:55.054777Z",
     "iopub.status.busy": "2024-03-24T19:57:55.053960Z",
     "iopub.status.idle": "2024-03-24T19:57:55.062205Z",
     "shell.execute_reply": "2024-03-24T19:57:55.061214Z",
     "shell.execute_reply.started": "2024-03-24T19:57:55.054733Z"
    }
   },
   "outputs": [
    {
     "data": {
      "text/plain": [
       "DatasetDict({\n",
       "    train: Dataset({\n",
       "        features: ['text', 'label'],\n",
       "        num_rows: 16000\n",
       "    })\n",
       "    validation: Dataset({\n",
       "        features: ['text', 'label'],\n",
       "        num_rows: 2000\n",
       "    })\n",
       "    test: Dataset({\n",
       "        features: ['text', 'label'],\n",
       "        num_rows: 2000\n",
       "    })\n",
       "})"
      ]
     },
     "execution_count": 71,
     "metadata": {},
     "output_type": "execute_result"
    }
   ],
   "source": [
    "emotion"
   ]
  },
  {
   "cell_type": "markdown",
   "metadata": {},
   "source": [
    "### Converting to pandas to do some pre-processing and visualization"
   ]
  },
  {
   "cell_type": "code",
   "execution_count": 72,
   "metadata": {
    "execution": {
     "iopub.execute_input": "2024-03-24T19:57:55.064052Z",
     "iopub.status.busy": "2024-03-24T19:57:55.063662Z",
     "iopub.status.idle": "2024-03-24T19:57:55.073793Z",
     "shell.execute_reply": "2024-03-24T19:57:55.072582Z",
     "shell.execute_reply.started": "2024-03-24T19:57:55.064026Z"
    }
   },
   "outputs": [],
   "source": [
    "emotion.set_format(type='pandas')"
   ]
  },
  {
   "cell_type": "code",
   "execution_count": 73,
   "metadata": {
    "execution": {
     "iopub.execute_input": "2024-03-24T19:57:55.075534Z",
     "iopub.status.busy": "2024-03-24T19:57:55.075092Z",
     "iopub.status.idle": "2024-03-24T19:57:55.086437Z",
     "shell.execute_reply": "2024-03-24T19:57:55.085468Z",
     "shell.execute_reply.started": "2024-03-24T19:57:55.075502Z"
    }
   },
   "outputs": [
    {
     "data": {
      "text/plain": [
       "DatasetDict({\n",
       "    train: Dataset({\n",
       "        features: ['text', 'label'],\n",
       "        num_rows: 16000\n",
       "    })\n",
       "    validation: Dataset({\n",
       "        features: ['text', 'label'],\n",
       "        num_rows: 2000\n",
       "    })\n",
       "    test: Dataset({\n",
       "        features: ['text', 'label'],\n",
       "        num_rows: 2000\n",
       "    })\n",
       "})"
      ]
     },
     "execution_count": 73,
     "metadata": {},
     "output_type": "execute_result"
    }
   ],
   "source": [
    "emotion"
   ]
  },
  {
   "cell_type": "code",
   "execution_count": 74,
   "metadata": {
    "execution": {
     "iopub.execute_input": "2024-03-24T19:57:55.087978Z",
     "iopub.status.busy": "2024-03-24T19:57:55.087662Z",
     "iopub.status.idle": "2024-03-24T19:57:55.102114Z",
     "shell.execute_reply": "2024-03-24T19:57:55.101089Z",
     "shell.execute_reply.started": "2024-03-24T19:57:55.087954Z"
    }
   },
   "outputs": [
    {
     "data": {
      "text/plain": [
       "Dataset({\n",
       "    features: ['text', 'label'],\n",
       "    num_rows: 16000\n",
       "})"
      ]
     },
     "execution_count": 74,
     "metadata": {},
     "output_type": "execute_result"
    }
   ],
   "source": [
    "emotion['train']"
   ]
  },
  {
   "cell_type": "code",
   "execution_count": 75,
   "metadata": {
    "execution": {
     "iopub.execute_input": "2024-03-24T19:57:55.108335Z",
     "iopub.status.busy": "2024-03-24T19:57:55.108088Z",
     "iopub.status.idle": "2024-03-24T19:57:55.128548Z",
     "shell.execute_reply": "2024-03-24T19:57:55.127443Z",
     "shell.execute_reply.started": "2024-03-24T19:57:55.108314Z"
    }
   },
   "outputs": [
    {
     "data": {
      "text/html": [
       "<div>\n",
       "<style scoped>\n",
       "    .dataframe tbody tr th:only-of-type {\n",
       "        vertical-align: middle;\n",
       "    }\n",
       "\n",
       "    .dataframe tbody tr th {\n",
       "        vertical-align: top;\n",
       "    }\n",
       "\n",
       "    .dataframe thead th {\n",
       "        text-align: right;\n",
       "    }\n",
       "</style>\n",
       "<table border=\"1\" class=\"dataframe\">\n",
       "  <thead>\n",
       "    <tr style=\"text-align: right;\">\n",
       "      <th></th>\n",
       "      <th>text</th>\n",
       "      <th>label</th>\n",
       "    </tr>\n",
       "  </thead>\n",
       "  <tbody>\n",
       "    <tr>\n",
       "      <th>0</th>\n",
       "      <td>i didnt feel humiliated</td>\n",
       "      <td>0</td>\n",
       "    </tr>\n",
       "    <tr>\n",
       "      <th>1</th>\n",
       "      <td>i can go from feeling so hopeless to so damned...</td>\n",
       "      <td>0</td>\n",
       "    </tr>\n",
       "    <tr>\n",
       "      <th>2</th>\n",
       "      <td>im grabbing a minute to post i feel greedy wrong</td>\n",
       "      <td>3</td>\n",
       "    </tr>\n",
       "    <tr>\n",
       "      <th>3</th>\n",
       "      <td>i am ever feeling nostalgic about the fireplac...</td>\n",
       "      <td>2</td>\n",
       "    </tr>\n",
       "    <tr>\n",
       "      <th>4</th>\n",
       "      <td>i am feeling grouchy</td>\n",
       "      <td>3</td>\n",
       "    </tr>\n",
       "    <tr>\n",
       "      <th>...</th>\n",
       "      <td>...</td>\n",
       "      <td>...</td>\n",
       "    </tr>\n",
       "    <tr>\n",
       "      <th>15995</th>\n",
       "      <td>i just had a very brief time in the beanbag an...</td>\n",
       "      <td>0</td>\n",
       "    </tr>\n",
       "    <tr>\n",
       "      <th>15996</th>\n",
       "      <td>i am now turning and i feel pathetic that i am...</td>\n",
       "      <td>0</td>\n",
       "    </tr>\n",
       "    <tr>\n",
       "      <th>15997</th>\n",
       "      <td>i feel strong and good overall</td>\n",
       "      <td>1</td>\n",
       "    </tr>\n",
       "    <tr>\n",
       "      <th>15998</th>\n",
       "      <td>i feel like this was such a rude comment and i...</td>\n",
       "      <td>3</td>\n",
       "    </tr>\n",
       "    <tr>\n",
       "      <th>15999</th>\n",
       "      <td>i know a lot but i feel so stupid because i ca...</td>\n",
       "      <td>0</td>\n",
       "    </tr>\n",
       "  </tbody>\n",
       "</table>\n",
       "<p>16000 rows × 2 columns</p>\n",
       "</div>"
      ],
      "text/plain": [
       "                                                    text  label\n",
       "0                                i didnt feel humiliated      0\n",
       "1      i can go from feeling so hopeless to so damned...      0\n",
       "2       im grabbing a minute to post i feel greedy wrong      3\n",
       "3      i am ever feeling nostalgic about the fireplac...      2\n",
       "4                                   i am feeling grouchy      3\n",
       "...                                                  ...    ...\n",
       "15995  i just had a very brief time in the beanbag an...      0\n",
       "15996  i am now turning and i feel pathetic that i am...      0\n",
       "15997                     i feel strong and good overall      1\n",
       "15998  i feel like this was such a rude comment and i...      3\n",
       "15999  i know a lot but i feel so stupid because i ca...      0\n",
       "\n",
       "[16000 rows x 2 columns]"
      ]
     },
     "execution_count": 75,
     "metadata": {},
     "output_type": "execute_result"
    }
   ],
   "source": [
    "emotion['train'][:]"
   ]
  },
  {
   "cell_type": "code",
   "execution_count": 76,
   "metadata": {
    "execution": {
     "iopub.execute_input": "2024-03-24T19:57:55.130242Z",
     "iopub.status.busy": "2024-03-24T19:57:55.129850Z",
     "iopub.status.idle": "2024-03-24T19:57:55.148804Z",
     "shell.execute_reply": "2024-03-24T19:57:55.147800Z",
     "shell.execute_reply.started": "2024-03-24T19:57:55.130206Z"
    }
   },
   "outputs": [
    {
     "data": {
      "text/html": [
       "<div>\n",
       "<style scoped>\n",
       "    .dataframe tbody tr th:only-of-type {\n",
       "        vertical-align: middle;\n",
       "    }\n",
       "\n",
       "    .dataframe tbody tr th {\n",
       "        vertical-align: top;\n",
       "    }\n",
       "\n",
       "    .dataframe thead th {\n",
       "        text-align: right;\n",
       "    }\n",
       "</style>\n",
       "<table border=\"1\" class=\"dataframe\">\n",
       "  <thead>\n",
       "    <tr style=\"text-align: right;\">\n",
       "      <th></th>\n",
       "      <th>text</th>\n",
       "      <th>label</th>\n",
       "    </tr>\n",
       "  </thead>\n",
       "  <tbody>\n",
       "    <tr>\n",
       "      <th>0</th>\n",
       "      <td>i didnt feel humiliated</td>\n",
       "      <td>0</td>\n",
       "    </tr>\n",
       "    <tr>\n",
       "      <th>1</th>\n",
       "      <td>i can go from feeling so hopeless to so damned...</td>\n",
       "      <td>0</td>\n",
       "    </tr>\n",
       "    <tr>\n",
       "      <th>2</th>\n",
       "      <td>im grabbing a minute to post i feel greedy wrong</td>\n",
       "      <td>3</td>\n",
       "    </tr>\n",
       "    <tr>\n",
       "      <th>3</th>\n",
       "      <td>i am ever feeling nostalgic about the fireplac...</td>\n",
       "      <td>2</td>\n",
       "    </tr>\n",
       "    <tr>\n",
       "      <th>4</th>\n",
       "      <td>i am feeling grouchy</td>\n",
       "      <td>3</td>\n",
       "    </tr>\n",
       "  </tbody>\n",
       "</table>\n",
       "</div>"
      ],
      "text/plain": [
       "                                                text  label\n",
       "0                            i didnt feel humiliated      0\n",
       "1  i can go from feeling so hopeless to so damned...      0\n",
       "2   im grabbing a minute to post i feel greedy wrong      3\n",
       "3  i am ever feeling nostalgic about the fireplac...      2\n",
       "4                               i am feeling grouchy      3"
      ]
     },
     "execution_count": 76,
     "metadata": {},
     "output_type": "execute_result"
    }
   ],
   "source": [
    "df=emotion['train'][:]\n",
    "df.head()"
   ]
  },
  {
   "cell_type": "code",
   "execution_count": 77,
   "metadata": {
    "execution": {
     "iopub.execute_input": "2024-03-24T19:57:55.150745Z",
     "iopub.status.busy": "2024-03-24T19:57:55.150360Z",
     "iopub.status.idle": "2024-03-24T19:57:55.160084Z",
     "shell.execute_reply": "2024-03-24T19:57:55.158964Z",
     "shell.execute_reply.started": "2024-03-24T19:57:55.150713Z"
    }
   },
   "outputs": [
    {
     "data": {
      "text/plain": [
       "['sadness', 'joy', 'love', 'anger', 'fear', 'surprise']"
      ]
     },
     "execution_count": 77,
     "metadata": {},
     "output_type": "execute_result"
    }
   ],
   "source": [
    "emotion['train'].features['label'].names"
   ]
  },
  {
   "cell_type": "code",
   "execution_count": 78,
   "metadata": {
    "execution": {
     "iopub.execute_input": "2024-03-24T19:57:55.161486Z",
     "iopub.status.busy": "2024-03-24T19:57:55.161132Z",
     "iopub.status.idle": "2024-03-24T19:57:55.167694Z",
     "shell.execute_reply": "2024-03-24T19:57:55.166566Z",
     "shell.execute_reply.started": "2024-03-24T19:57:55.161456Z"
    }
   },
   "outputs": [],
   "source": [
    "classes=emotion['train'].features['label'].names"
   ]
  },
  {
   "cell_type": "markdown",
   "metadata": {},
   "source": [
    "### Adding label_names as column"
   ]
  },
  {
   "cell_type": "code",
   "execution_count": 79,
   "metadata": {
    "execution": {
     "iopub.execute_input": "2024-03-24T19:57:55.169596Z",
     "iopub.status.busy": "2024-03-24T19:57:55.169111Z",
     "iopub.status.idle": "2024-03-24T19:57:55.184728Z",
     "shell.execute_reply": "2024-03-24T19:57:55.182621Z",
     "shell.execute_reply.started": "2024-03-24T19:57:55.169539Z"
    }
   },
   "outputs": [],
   "source": [
    "df['label_name']=df['label'].apply(lambda x: classes[x])"
   ]
  },
  {
   "cell_type": "code",
   "execution_count": 80,
   "metadata": {
    "execution": {
     "iopub.execute_input": "2024-03-24T19:57:55.187973Z",
     "iopub.status.busy": "2024-03-24T19:57:55.187284Z",
     "iopub.status.idle": "2024-03-24T19:57:55.198328Z",
     "shell.execute_reply": "2024-03-24T19:57:55.196991Z",
     "shell.execute_reply.started": "2024-03-24T19:57:55.187933Z"
    }
   },
   "outputs": [
    {
     "data": {
      "text/html": [
       "<div>\n",
       "<style scoped>\n",
       "    .dataframe tbody tr th:only-of-type {\n",
       "        vertical-align: middle;\n",
       "    }\n",
       "\n",
       "    .dataframe tbody tr th {\n",
       "        vertical-align: top;\n",
       "    }\n",
       "\n",
       "    .dataframe thead th {\n",
       "        text-align: right;\n",
       "    }\n",
       "</style>\n",
       "<table border=\"1\" class=\"dataframe\">\n",
       "  <thead>\n",
       "    <tr style=\"text-align: right;\">\n",
       "      <th></th>\n",
       "      <th>text</th>\n",
       "      <th>label</th>\n",
       "      <th>label_name</th>\n",
       "    </tr>\n",
       "  </thead>\n",
       "  <tbody>\n",
       "    <tr>\n",
       "      <th>0</th>\n",
       "      <td>i didnt feel humiliated</td>\n",
       "      <td>0</td>\n",
       "      <td>sadness</td>\n",
       "    </tr>\n",
       "    <tr>\n",
       "      <th>1</th>\n",
       "      <td>i can go from feeling so hopeless to so damned...</td>\n",
       "      <td>0</td>\n",
       "      <td>sadness</td>\n",
       "    </tr>\n",
       "    <tr>\n",
       "      <th>2</th>\n",
       "      <td>im grabbing a minute to post i feel greedy wrong</td>\n",
       "      <td>3</td>\n",
       "      <td>anger</td>\n",
       "    </tr>\n",
       "    <tr>\n",
       "      <th>3</th>\n",
       "      <td>i am ever feeling nostalgic about the fireplac...</td>\n",
       "      <td>2</td>\n",
       "      <td>love</td>\n",
       "    </tr>\n",
       "    <tr>\n",
       "      <th>4</th>\n",
       "      <td>i am feeling grouchy</td>\n",
       "      <td>3</td>\n",
       "      <td>anger</td>\n",
       "    </tr>\n",
       "  </tbody>\n",
       "</table>\n",
       "</div>"
      ],
      "text/plain": [
       "                                                text  label label_name\n",
       "0                            i didnt feel humiliated      0    sadness\n",
       "1  i can go from feeling so hopeless to so damned...      0    sadness\n",
       "2   im grabbing a minute to post i feel greedy wrong      3      anger\n",
       "3  i am ever feeling nostalgic about the fireplac...      2       love\n",
       "4                               i am feeling grouchy      3      anger"
      ]
     },
     "execution_count": 80,
     "metadata": {},
     "output_type": "execute_result"
    }
   ],
   "source": [
    "df.head()"
   ]
  },
  {
   "cell_type": "markdown",
   "metadata": {},
   "source": [
    "### Data Analysis"
   ]
  },
  {
   "cell_type": "code",
   "execution_count": 81,
   "metadata": {
    "execution": {
     "iopub.execute_input": "2024-03-24T19:57:55.199816Z",
     "iopub.status.busy": "2024-03-24T19:57:55.199581Z",
     "iopub.status.idle": "2024-03-24T19:57:55.207064Z",
     "shell.execute_reply": "2024-03-24T19:57:55.205923Z",
     "shell.execute_reply.started": "2024-03-24T19:57:55.199795Z"
    }
   },
   "outputs": [],
   "source": [
    "import pandas as pd\n",
    "import matplotlib.pyplot as plt"
   ]
  },
  {
   "cell_type": "code",
   "execution_count": 82,
   "metadata": {
    "execution": {
     "iopub.execute_input": "2024-03-24T19:57:55.208821Z",
     "iopub.status.busy": "2024-03-24T19:57:55.208353Z",
     "iopub.status.idle": "2024-03-24T19:57:55.227515Z",
     "shell.execute_reply": "2024-03-24T19:57:55.226468Z",
     "shell.execute_reply.started": "2024-03-24T19:57:55.208789Z"
    }
   },
   "outputs": [
    {
     "data": {
      "text/plain": [
       "label_name\n",
       "joy         5362\n",
       "sadness     4666\n",
       "anger       2159\n",
       "fear        1937\n",
       "love        1304\n",
       "surprise     572\n",
       "Name: count, dtype: int64"
      ]
     },
     "execution_count": 82,
     "metadata": {},
     "output_type": "execute_result"
    }
   ],
   "source": [
    "df['label_name'].value_counts()"
   ]
  },
  {
   "cell_type": "code",
   "execution_count": 84,
   "metadata": {
    "execution": {
     "iopub.execute_input": "2024-03-24T19:57:55.481973Z",
     "iopub.status.busy": "2024-03-24T19:57:55.481595Z",
     "iopub.status.idle": "2024-03-24T19:57:55.732233Z",
     "shell.execute_reply": "2024-03-24T19:57:55.729914Z",
     "shell.execute_reply.started": "2024-03-24T19:57:55.481938Z"
    }
   },
   "outputs": [
    {
     "data": {
      "image/png": "[encoded data removed]",
      "text/plain": [
       "<Figure size 640x480 with 1 Axes>"
      ]
     },
     "metadata": {},
     "output_type": "display_data"
    }
   ],
   "source": [
    "label_counts=df['label_name'].value_counts()\n",
    "plt.title(\"Frequency of classes\")\n",
    "label_counts.plot.bar()\n",
    "plt.show()"
   ]
  },
  {
   "cell_type": "code",
   "execution_count": 85,
   "metadata": {
    "execution": {
     "iopub.execute_input": "2024-03-24T19:57:55.734109Z",
     "iopub.status.busy": "2024-03-24T19:57:55.733727Z",
     "iopub.status.idle": "2024-03-24T19:57:55.803000Z",
     "shell.execute_reply": "2024-03-24T19:57:55.801900Z",
     "shell.execute_reply.started": "2024-03-24T19:57:55.734076Z"
    }
   },
   "outputs": [
    {
     "data": {
      "text/plain": [
       "0         4\n",
       "1        21\n",
       "2        10\n",
       "3        18\n",
       "4         4\n",
       "         ..\n",
       "15995    24\n",
       "15996    20\n",
       "15997     6\n",
       "15998    14\n",
       "15999    15\n",
       "Name: text, Length: 16000, dtype: int64"
      ]
     },
     "execution_count": 85,
     "metadata": {},
     "output_type": "execute_result"
    }
   ],
   "source": [
    "df['text'].str.split().apply(len)"
   ]
  },
  {
   "cell_type": "markdown",
   "metadata": {},
   "source": [
    "### Adding words per tweet as a column"
   ]
  },
  {
   "cell_type": "code",
   "execution_count": 86,
   "metadata": {
    "execution": {
     "iopub.execute_input": "2024-03-24T19:57:55.805849Z",
     "iopub.status.busy": "2024-03-24T19:57:55.805454Z",
     "iopub.status.idle": "2024-03-24T19:57:55.866620Z",
     "shell.execute_reply": "2024-03-24T19:57:55.865582Z",
     "shell.execute_reply.started": "2024-03-24T19:57:55.805813Z"
    }
   },
   "outputs": [],
   "source": [
    "df['Words_Per_Tweet']=df['text'].str.split().apply(len)"
   ]
  },
  {
   "cell_type": "code",
   "execution_count": 87,
   "metadata": {
    "execution": {
     "iopub.execute_input": "2024-03-24T19:57:55.868080Z",
     "iopub.status.busy": "2024-03-24T19:57:55.867790Z",
     "iopub.status.idle": "2024-03-24T19:57:56.157770Z",
     "shell.execute_reply": "2024-03-24T19:57:56.156569Z",
     "shell.execute_reply.started": "2024-03-24T19:57:55.868054Z"
    }
   },
   "outputs": [
    {
     "data": {
      "text/plain": [
       "<Axes: title={'center': 'Words_Per_Tweet'}, xlabel='label_name'>"
      ]
     },
     "execution_count": 87,
     "metadata": {},
     "output_type": "execute_result"
    },
    {
     "data": {
      "image/png": "[encoded data removed]",
      "text/plain": [
       "<Figure size 640x480 with 1 Axes>"
      ]
     },
     "metadata": {},
     "output_type": "display_data"
    }
   ],
   "source": [
    "df.boxplot(\"Words_Per_Tweet\",by='label_name')"
   ]
  },
  {
   "cell_type": "code",
   "execution_count": 88,
   "metadata": {
    "execution": {
     "iopub.execute_input": "2024-03-24T19:57:56.159518Z",
     "iopub.status.busy": "2024-03-24T19:57:56.159153Z",
     "iopub.status.idle": "2024-03-24T19:57:56.229033Z",
     "shell.execute_reply": "2024-03-24T19:57:56.227786Z",
     "shell.execute_reply.started": "2024-03-24T19:57:56.159485Z"
    }
   },
   "outputs": [
    {
     "data": {
      "text/plain": [
       "66"
      ]
     },
     "execution_count": 88,
     "metadata": {},
     "output_type": "execute_result"
    }
   ],
   "source": [
    "max(df['text'].str.split().apply(len))"
   ]
  },
  {
   "cell_type": "markdown",
   "metadata": {},
   "source": [
    "### Importing AutoTokenizer and Model"
   ]
  },
  {
   "cell_type": "code",
   "execution_count": 89,
   "metadata": {
    "execution": {
     "iopub.execute_input": "2024-03-24T19:57:56.230771Z",
     "iopub.status.busy": "2024-03-24T19:57:56.230447Z",
     "iopub.status.idle": "2024-03-24T19:57:56.490028Z",
     "shell.execute_reply": "2024-03-24T19:57:56.489102Z",
     "shell.execute_reply.started": "2024-03-24T19:57:56.230737Z"
    }
   },
   "outputs": [],
   "source": [
    "# It will automatically detect the model, and tokenize accordingly\n",
    "from transformers import AutoTokenizer\n",
    "model_ckpt=\"distilbert-base-uncased\"  #uncased:will treat capital and small letters same\n",
    "tokenizer=AutoTokenizer.from_pretrained(model_ckpt)"
   ]
  },
  {
   "cell_type": "code",
   "execution_count": 90,
   "metadata": {
    "execution": {
     "iopub.execute_input": "2024-03-24T19:57:56.492018Z",
     "iopub.status.busy": "2024-03-24T19:57:56.491618Z",
     "iopub.status.idle": "2024-03-24T19:57:56.499004Z",
     "shell.execute_reply": "2024-03-24T19:57:56.497891Z",
     "shell.execute_reply.started": "2024-03-24T19:57:56.491980Z"
    }
   },
   "outputs": [],
   "source": [
    "text=\"I love Natural Language Processing!.Tokenization is awesome\""
   ]
  },
  {
   "cell_type": "code",
   "execution_count": 91,
   "metadata": {
    "execution": {
     "iopub.execute_input": "2024-03-24T19:57:56.502804Z",
     "iopub.status.busy": "2024-03-24T19:57:56.500296Z",
     "iopub.status.idle": "2024-03-24T19:57:56.512066Z",
     "shell.execute_reply": "2024-03-24T19:57:56.510734Z",
     "shell.execute_reply.started": "2024-03-24T19:57:56.502779Z"
    }
   },
   "outputs": [
    {
     "data": {
      "text/plain": [
       "{'input_ids': [101, 1045, 2293, 3019, 2653, 6364, 999, 1012, 19204, 3989, 2003, 12476, 102], 'attention_mask': [1, 1, 1, 1, 1, 1, 1, 1, 1, 1, 1, 1, 1]}"
      ]
     },
     "execution_count": 91,
     "metadata": {},
     "output_type": "execute_result"
    }
   ],
   "source": [
    "tokenizer(text)\n",
    "# two extra tokens to tell the starting and ending"
   ]
  },
  {
   "cell_type": "code",
   "execution_count": 92,
   "metadata": {
    "execution": {
     "iopub.execute_input": "2024-03-24T19:57:56.513656Z",
     "iopub.status.busy": "2024-03-24T19:57:56.513307Z",
     "iopub.status.idle": "2024-03-24T19:57:56.525460Z",
     "shell.execute_reply": "2024-03-24T19:57:56.524308Z",
     "shell.execute_reply.started": "2024-03-24T19:57:56.513625Z"
    }
   },
   "outputs": [
    {
     "data": {
      "text/plain": [
       "['[CLS]',\n",
       " 'i',\n",
       " 'love',\n",
       " 'natural',\n",
       " 'language',\n",
       " 'processing',\n",
       " '!',\n",
       " '.',\n",
       " 'token',\n",
       " '##ization',\n",
       " 'is',\n",
       " 'awesome',\n",
       " '[SEP]']"
      ]
     },
     "execution_count": 92,
     "metadata": {},
     "output_type": "execute_result"
    }
   ],
   "source": [
    "tokenizer.convert_ids_to_tokens(tokenizer(text).input_ids)\n",
    "# [CLS]\n",
    "# [SEP]\n",
    "# also note that it makes I,N,L,P as small letter."
   ]
  },
  {
   "cell_type": "code",
   "execution_count": 93,
   "metadata": {
    "execution": {
     "iopub.execute_input": "2024-03-24T19:57:56.534203Z",
     "iopub.status.busy": "2024-03-24T19:57:56.533925Z",
     "iopub.status.idle": "2024-03-24T19:57:56.540249Z",
     "shell.execute_reply": "2024-03-24T19:57:56.539311Z",
     "shell.execute_reply.started": "2024-03-24T19:57:56.534181Z"
    }
   },
   "outputs": [],
   "source": [
    "#  ##shows continuation of the previous word.\n",
    "# basically two parts of a SINGLE token. This approach helps capture the morphological structure of words more effectively."
   ]
  },
  {
   "cell_type": "code",
   "execution_count": 94,
   "metadata": {
    "execution": {
     "iopub.execute_input": "2024-03-24T19:57:56.541262Z",
     "iopub.status.busy": "2024-03-24T19:57:56.541020Z",
     "iopub.status.idle": "2024-03-24T19:57:56.550789Z",
     "shell.execute_reply": "2024-03-24T19:57:56.549793Z",
     "shell.execute_reply.started": "2024-03-24T19:57:56.541240Z"
    }
   },
   "outputs": [
    {
     "data": {
      "text/plain": [
       "(30522, 512)"
      ]
     },
     "execution_count": 94,
     "metadata": {},
     "output_type": "execute_result"
    }
   ],
   "source": [
    "tokenizer.vocab_size,tokenizer.model_max_length"
   ]
  },
  {
   "cell_type": "markdown",
   "metadata": {},
   "source": [
    "### Tokenization of the Emotion Data set"
   ]
  },
  {
   "cell_type": "code",
   "execution_count": 95,
   "metadata": {
    "execution": {
     "iopub.execute_input": "2024-03-24T19:57:56.552154Z",
     "iopub.status.busy": "2024-03-24T19:57:56.551894Z",
     "iopub.status.idle": "2024-03-24T19:57:56.560227Z",
     "shell.execute_reply": "2024-03-24T19:57:56.559174Z",
     "shell.execute_reply.started": "2024-03-24T19:57:56.552131Z"
    }
   },
   "outputs": [],
   "source": [
    "# resetting back to dataset_dict from pandas\n",
    "emotion.reset_format()"
   ]
  },
  {
   "cell_type": "code",
   "execution_count": 96,
   "metadata": {
    "execution": {
     "iopub.execute_input": "2024-03-24T19:57:56.562205Z",
     "iopub.status.busy": "2024-03-24T19:57:56.561849Z",
     "iopub.status.idle": "2024-03-24T19:57:56.572936Z",
     "shell.execute_reply": "2024-03-24T19:57:56.571852Z",
     "shell.execute_reply.started": "2024-03-24T19:57:56.562171Z"
    }
   },
   "outputs": [
    {
     "data": {
      "text/plain": [
       "datasets.dataset_dict.DatasetDict"
      ]
     },
     "execution_count": 96,
     "metadata": {},
     "output_type": "execute_result"
    }
   ],
   "source": [
    "type(emotion)"
   ]
  },
  {
   "cell_type": "markdown",
   "metadata": {},
   "source": [
    "### Function to tokenize"
   ]
  },
  {
   "cell_type": "code",
   "execution_count": 97,
   "metadata": {
    "execution": {
     "iopub.execute_input": "2024-03-24T19:57:56.574250Z",
     "iopub.status.busy": "2024-03-24T19:57:56.573908Z",
     "iopub.status.idle": "2024-03-24T19:57:56.582048Z",
     "shell.execute_reply": "2024-03-24T19:57:56.581179Z",
     "shell.execute_reply.started": "2024-03-24T19:57:56.574221Z"
    }
   },
   "outputs": [],
   "source": [
    "# mapping\n",
    "def tokenize(batch):\n",
    "    temp=tokenizer(batch['text'],padding=True,truncation=True)\n",
    "    return temp"
   ]
  },
  {
   "cell_type": "code",
   "execution_count": 98,
   "metadata": {
    "execution": {
     "iopub.execute_input": "2024-03-24T19:57:56.583541Z",
     "iopub.status.busy": "2024-03-24T19:57:56.583186Z",
     "iopub.status.idle": "2024-03-24T19:57:56.596854Z",
     "shell.execute_reply": "2024-03-24T19:57:56.595819Z",
     "shell.execute_reply.started": "2024-03-24T19:57:56.583513Z"
    }
   },
   "outputs": [
    {
     "data": {
      "text/plain": [
       "DatasetDict({\n",
       "    train: Dataset({\n",
       "        features: ['text', 'label'],\n",
       "        num_rows: 16000\n",
       "    })\n",
       "    validation: Dataset({\n",
       "        features: ['text', 'label'],\n",
       "        num_rows: 2000\n",
       "    })\n",
       "    test: Dataset({\n",
       "        features: ['text', 'label'],\n",
       "        num_rows: 2000\n",
       "    })\n",
       "})"
      ]
     },
     "execution_count": 98,
     "metadata": {},
     "output_type": "execute_result"
    }
   ],
   "source": [
    "emotion"
   ]
  },
  {
   "cell_type": "code",
   "execution_count": 99,
   "metadata": {
    "execution": {
     "iopub.execute_input": "2024-03-24T19:57:56.598776Z",
     "iopub.status.busy": "2024-03-24T19:57:56.598425Z",
     "iopub.status.idle": "2024-03-24T19:57:56.606118Z",
     "shell.execute_reply": "2024-03-24T19:57:56.605125Z",
     "shell.execute_reply.started": "2024-03-24T19:57:56.598734Z"
    }
   },
   "outputs": [
    {
     "name": "stdout",
     "output_type": "stream",
     "text": [
      "{'input_ids': [[101, 1045, 2134, 2102, 2514, 26608, 102, 0, 0, 0, 0, 0, 0, 0, 0, 0, 0, 0, 0, 0, 0, 0, 0], [101, 1045, 2064, 2175, 2013, 3110, 2061, 20625, 2000, 2061, 9636, 17772, 2074, 2013, 2108, 2105, 2619, 2040, 14977, 1998, 2003, 8300, 102]], 'attention_mask': [[1, 1, 1, 1, 1, 1, 1, 0, 0, 0, 0, 0, 0, 0, 0, 0, 0, 0, 0, 0, 0, 0, 0], [1, 1, 1, 1, 1, 1, 1, 1, 1, 1, 1, 1, 1, 1, 1, 1, 1, 1, 1, 1, 1, 1, 1]]}\n"
     ]
    }
   ],
   "source": [
    "print(tokenize(emotion[\"train\"][:2]))\n",
    "# Here attention simply tells which token to consider and which to ignore."
   ]
  },
  {
   "cell_type": "code",
   "execution_count": 100,
   "metadata": {
    "execution": {
     "iopub.execute_input": "2024-03-24T19:57:56.607857Z",
     "iopub.status.busy": "2024-03-24T19:57:56.607508Z",
     "iopub.status.idle": "2024-03-24T19:57:56.614730Z",
     "shell.execute_reply": "2024-03-24T19:57:56.613665Z",
     "shell.execute_reply.started": "2024-03-24T19:57:56.607824Z"
    }
   },
   "outputs": [
    {
     "name": "stdout",
     "output_type": "stream",
     "text": [
      "{'input_ids': [[101, 1045, 2134, 2102, 2514, 26608, 102]], 'attention_mask': [[1, 1, 1, 1, 1, 1, 1]]}\n"
     ]
    }
   ],
   "source": [
    "print(tokenize(emotion[\"train\"][:1]))\n",
    "# note that for only one text data there will be no padding obviosuly."
   ]
  },
  {
   "cell_type": "markdown",
   "metadata": {},
   "source": [
    "### Applying the tokenize function to the emotion dataset"
   ]
  },
  {
   "cell_type": "code",
   "execution_count": 101,
   "metadata": {
    "execution": {
     "iopub.execute_input": "2024-03-24T19:57:56.616344Z",
     "iopub.status.busy": "2024-03-24T19:57:56.616068Z",
     "iopub.status.idle": "2024-03-24T19:57:58.816189Z",
     "shell.execute_reply": "2024-03-24T19:57:58.815229Z",
     "shell.execute_reply.started": "2024-03-24T19:57:56.616323Z"
    }
   },
   "outputs": [
    {
     "data": {
      "application/vnd.jupyter.widget-view+json": {
       "model_id": "875dc15110ca4694a3b1fb99f677e55f",
       "version_major": 2,
       "version_minor": 0
      },
      "text/plain": [
       "  0%|          | 0/1 [00:00<?, ?ba/s]"
      ]
     },
     "metadata": {},
     "output_type": "display_data"
    },
    {
     "data": {
      "application/vnd.jupyter.widget-view+json": {
       "model_id": "5b1b0d4b4bad4c18b651fab50371794f",
       "version_major": 2,
       "version_minor": 0
      },
      "text/plain": [
       "  0%|          | 0/1 [00:00<?, ?ba/s]"
      ]
     },
     "metadata": {},
     "output_type": "display_data"
    },
    {
     "data": {
      "application/vnd.jupyter.widget-view+json": {
       "model_id": "2535f2b97d5546049864c10f0e0b6bf9",
       "version_major": 2,
       "version_minor": 0
      },
      "text/plain": [
       "  0%|          | 0/1 [00:00<?, ?ba/s]"
      ]
     },
     "metadata": {},
     "output_type": "display_data"
    }
   ],
   "source": [
    "emotions_encoded=emotion.map(tokenize,batched=True,batch_size=None)"
   ]
  },
  {
   "cell_type": "code",
   "execution_count": 102,
   "metadata": {
    "execution": {
     "iopub.execute_input": "2024-03-24T19:57:58.818014Z",
     "iopub.status.busy": "2024-03-24T19:57:58.817648Z",
     "iopub.status.idle": "2024-03-24T19:57:58.827019Z",
     "shell.execute_reply": "2024-03-24T19:57:58.825107Z",
     "shell.execute_reply.started": "2024-03-24T19:57:58.817981Z"
    }
   },
   "outputs": [
    {
     "data": {
      "text/plain": [
       "DatasetDict({\n",
       "    train: Dataset({\n",
       "        features: ['text', 'label', 'input_ids', 'attention_mask'],\n",
       "        num_rows: 16000\n",
       "    })\n",
       "    validation: Dataset({\n",
       "        features: ['text', 'label', 'input_ids', 'attention_mask'],\n",
       "        num_rows: 2000\n",
       "    })\n",
       "    test: Dataset({\n",
       "        features: ['text', 'label', 'input_ids', 'attention_mask'],\n",
       "        num_rows: 2000\n",
       "    })\n",
       "})"
      ]
     },
     "execution_count": 102,
     "metadata": {},
     "output_type": "execute_result"
    }
   ],
   "source": [
    "emotions_encoded\n",
    "# Two additional columns added 'input_ids', 'attention_mask'"
   ]
  },
  {
   "cell_type": "code",
   "execution_count": 103,
   "metadata": {
    "execution": {
     "iopub.execute_input": "2024-03-24T19:57:58.828628Z",
     "iopub.status.busy": "2024-03-24T19:57:58.828251Z",
     "iopub.status.idle": "2024-03-24T19:57:58.854587Z",
     "shell.execute_reply": "2024-03-24T19:57:58.853533Z",
     "shell.execute_reply.started": "2024-03-24T19:57:58.828597Z"
    }
   },
   "outputs": [
    {
     "data": {
      "text/plain": [
       "'I love Natural Language Processing!.Tokenization is awesome'"
      ]
     },
     "execution_count": 103,
     "metadata": {},
     "output_type": "execute_result"
    }
   ],
   "source": [
    "text"
   ]
  },
  {
   "cell_type": "code",
   "execution_count": 104,
   "metadata": {
    "execution": {
     "iopub.execute_input": "2024-03-24T19:57:58.856745Z",
     "iopub.status.busy": "2024-03-24T19:57:58.856022Z",
     "iopub.status.idle": "2024-03-24T19:57:58.868250Z",
     "shell.execute_reply": "2024-03-24T19:57:58.867099Z",
     "shell.execute_reply.started": "2024-03-24T19:57:58.856695Z"
    }
   },
   "outputs": [
    {
     "data": {
      "text/plain": [
       "{'input_ids': tensor([[  101,  1045,  2293,  3019,  2653,  6364,   999,  1012, 19204,  3989,\n",
       "          2003, 12476,   102]]), 'attention_mask': tensor([[1, 1, 1, 1, 1, 1, 1, 1, 1, 1, 1, 1, 1]])}"
      ]
     },
     "execution_count": 104,
     "metadata": {},
     "output_type": "execute_result"
    }
   ],
   "source": [
    "inputs=tokenizer(text,return_tensors='pt')\n",
    "inputs"
   ]
  },
  {
   "cell_type": "markdown",
   "metadata": {},
   "source": [
    "### importing the AutoModel and initialize the model"
   ]
  },
  {
   "cell_type": "code",
   "execution_count": 105,
   "metadata": {
    "execution": {
     "iopub.execute_input": "2024-03-24T19:57:58.869677Z",
     "iopub.status.busy": "2024-03-24T19:57:58.869397Z",
     "iopub.status.idle": "2024-03-24T19:57:59.234539Z",
     "shell.execute_reply": "2024-03-24T19:57:59.233322Z",
     "shell.execute_reply.started": "2024-03-24T19:57:58.869655Z"
    }
   },
   "outputs": [],
   "source": [
    "from transformers import AutoModel\n",
    "import torch\n",
    "\n",
    "model=AutoModel.from_pretrained(model_ckpt)"
   ]
  },
  {
   "cell_type": "code",
   "execution_count": 106,
   "metadata": {
    "execution": {
     "iopub.execute_input": "2024-03-24T19:57:59.236395Z",
     "iopub.status.busy": "2024-03-24T19:57:59.235914Z",
     "iopub.status.idle": "2024-03-24T19:57:59.244226Z",
     "shell.execute_reply": "2024-03-24T19:57:59.243012Z",
     "shell.execute_reply.started": "2024-03-24T19:57:59.236367Z"
    }
   },
   "outputs": [
    {
     "data": {
      "text/plain": [
       "DistilBertModel(\n",
       "  (embeddings): Embeddings(\n",
       "    (word_embeddings): Embedding(30522, 768, padding_idx=0)\n",
       "    (position_embeddings): Embedding(512, 768)\n",
       "    (LayerNorm): LayerNorm((768,), eps=1e-12, elementwise_affine=True)\n",
       "    (dropout): Dropout(p=0.1, inplace=False)\n",
       "  )\n",
       "  (transformer): Transformer(\n",
       "    (layer): ModuleList(\n",
       "      (0-5): 6 x TransformerBlock(\n",
       "        (attention): MultiHeadSelfAttention(\n",
       "          (dropout): Dropout(p=0.1, inplace=False)\n",
       "          (q_lin): Linear(in_features=768, out_features=768, bias=True)\n",
       "          (k_lin): Linear(in_features=768, out_features=768, bias=True)\n",
       "          (v_lin): Linear(in_features=768, out_features=768, bias=True)\n",
       "          (out_lin): Linear(in_features=768, out_features=768, bias=True)\n",
       "        )\n",
       "        (sa_layer_norm): LayerNorm((768,), eps=1e-12, elementwise_affine=True)\n",
       "        (ffn): FFN(\n",
       "          (dropout): Dropout(p=0.1, inplace=False)\n",
       "          (lin1): Linear(in_features=768, out_features=3072, bias=True)\n",
       "          (lin2): Linear(in_features=3072, out_features=768, bias=True)\n",
       "          (activation): GELUActivation()\n",
       "        )\n",
       "        (output_layer_norm): LayerNorm((768,), eps=1e-12, elementwise_affine=True)\n",
       "      )\n",
       "    )\n",
       "  )\n",
       ")"
      ]
     },
     "execution_count": 106,
     "metadata": {},
     "output_type": "execute_result"
    }
   ],
   "source": [
    "model"
   ]
  },
  {
   "cell_type": "markdown",
   "metadata": {
    "execution": {
     "iopub.execute_input": "2024-03-24T19:57:59.245798Z",
     "iopub.status.busy": "2024-03-24T19:57:59.245474Z",
     "iopub.status.idle": "2024-03-24T19:57:59.253315Z",
     "shell.execute_reply": "2024-03-24T19:57:59.252375Z",
     "shell.execute_reply.started": "2024-03-24T19:57:59.245768Z"
    }
   },
   "source": [
    "### Generate Embedding"
   ]
  },
  {
   "cell_type": "code",
   "execution_count": 108,
   "metadata": {
    "execution": {
     "iopub.execute_input": "2024-03-24T19:57:59.255263Z",
     "iopub.status.busy": "2024-03-24T19:57:59.254668Z",
     "iopub.status.idle": "2024-03-24T19:57:59.321973Z",
     "shell.execute_reply": "2024-03-24T19:57:59.320483Z",
     "shell.execute_reply.started": "2024-03-24T19:57:59.255230Z"
    }
   },
   "outputs": [],
   "source": [
    "# do not loading any gradient\n",
    "\n",
    "with torch.no_grad():\n",
    "    outputs=model(**inputs)\n",
    "last_hidden_states=outputs.last_hidden_state"
   ]
  },
  {
   "cell_type": "code",
   "execution_count": 109,
   "metadata": {
    "execution": {
     "iopub.execute_input": "2024-03-24T19:57:59.324065Z",
     "iopub.status.busy": "2024-03-24T19:57:59.323738Z",
     "iopub.status.idle": "2024-03-24T19:57:59.334048Z",
     "shell.execute_reply": "2024-03-24T19:57:59.333035Z",
     "shell.execute_reply.started": "2024-03-24T19:57:59.324040Z"
    }
   },
   "outputs": [
    {
     "data": {
      "text/plain": [
       "BaseModelOutput(last_hidden_state=tensor([[[-0.0937, -0.1490, -0.2345,  ..., -0.1543,  0.2196,  0.5286],\n",
       "         [ 0.4473,  0.1550, -0.1675,  ..., -0.0665,  0.4243,  0.4598],\n",
       "         [ 0.5727,  0.6885,  0.3973,  ..., -0.1183,  0.3254,  0.2251],\n",
       "         ...,\n",
       "         [-0.1104,  0.0378,  0.0322,  ..., -0.0814,  0.0987,  0.5838],\n",
       "         [ 0.2935, -0.1514,  0.0235,  ...,  0.1056, -0.0856,  0.0645],\n",
       "         [ 0.8488,  0.1979, -0.6133,  ...,  0.0716, -0.7379, -0.2251]]]), hidden_states=None, attentions=None)"
      ]
     },
     "execution_count": 109,
     "metadata": {},
     "output_type": "execute_result"
    }
   ],
   "source": [
    "outputs"
   ]
  },
  {
   "cell_type": "markdown",
   "metadata": {},
   "source": [
    "### Storing the last hidden states"
   ]
  },
  {
   "cell_type": "code",
   "execution_count": 110,
   "metadata": {
    "execution": {
     "iopub.execute_input": "2024-03-24T19:57:59.335897Z",
     "iopub.status.busy": "2024-03-24T19:57:59.335591Z",
     "iopub.status.idle": "2024-03-24T19:57:59.345640Z",
     "shell.execute_reply": "2024-03-24T19:57:59.343997Z",
     "shell.execute_reply.started": "2024-03-24T19:57:59.335866Z"
    }
   },
   "outputs": [
    {
     "data": {
      "text/plain": [
       "tensor([[[-0.0937, -0.1490, -0.2345,  ..., -0.1543,  0.2196,  0.5286],\n",
       "         [ 0.4473,  0.1550, -0.1675,  ..., -0.0665,  0.4243,  0.4598],\n",
       "         [ 0.5727,  0.6885,  0.3973,  ..., -0.1183,  0.3254,  0.2251],\n",
       "         ...,\n",
       "         [-0.1104,  0.0378,  0.0322,  ..., -0.0814,  0.0987,  0.5838],\n",
       "         [ 0.2935, -0.1514,  0.0235,  ...,  0.1056, -0.0856,  0.0645],\n",
       "         [ 0.8488,  0.1979, -0.6133,  ...,  0.0716, -0.7379, -0.2251]]])"
      ]
     },
     "execution_count": 110,
     "metadata": {},
     "output_type": "execute_result"
    }
   ],
   "source": [
    "last_hidden_states"
   ]
  },
  {
   "cell_type": "code",
   "execution_count": 111,
   "metadata": {
    "execution": {
     "iopub.execute_input": "2024-03-24T19:57:59.347936Z",
     "iopub.status.busy": "2024-03-24T19:57:59.347329Z",
     "iopub.status.idle": "2024-03-24T19:57:59.355680Z",
     "shell.execute_reply": "2024-03-24T19:57:59.354349Z",
     "shell.execute_reply.started": "2024-03-24T19:57:59.347899Z"
    }
   },
   "outputs": [
    {
     "data": {
      "text/plain": [
       "torch.Size([1, 13, 768])"
      ]
     },
     "execution_count": 111,
     "metadata": {},
     "output_type": "execute_result"
    }
   ],
   "source": [
    "last_hidden_states.shape\n",
    "# vector lenght generated by distilbert=768\n",
    "# total no of tokens present in the data=13"
   ]
  },
  {
   "cell_type": "markdown",
   "metadata": {},
   "source": [
    "### Fine Tuning the model"
   ]
  },
  {
   "cell_type": "code",
   "execution_count": 112,
   "metadata": {
    "execution": {
     "iopub.execute_input": "2024-03-24T19:57:59.358177Z",
     "iopub.status.busy": "2024-03-24T19:57:59.357346Z",
     "iopub.status.idle": "2024-03-24T19:57:59.720506Z",
     "shell.execute_reply": "2024-03-24T19:57:59.718749Z",
     "shell.execute_reply.started": "2024-03-24T19:57:59.358002Z"
    }
   },
   "outputs": [
    {
     "name": "stderr",
     "output_type": "stream",
     "text": [
      "Some weights of DistilBertForSequenceClassification were not initialized from the model checkpoint at distilbert-base-uncased and are newly initialized: ['classifier.bias', 'classifier.weight', 'pre_classifier.bias', 'pre_classifier.weight']\n",
      "You should probably TRAIN this model on a down-stream task to be able to use it for predictions and inference.\n"
     ]
    }
   ],
   "source": [
    "from transformers import AutoModelForSequenceClassification\n",
    "\n",
    "num_labels=len(classes)\n",
    "device=torch.device(\"cuda\" if torch.cuda.is_available() else \"cpu\")\n",
    "model=AutoModelForSequenceClassification.from_pretrained(model_ckpt)"
   ]
  },
  {
   "cell_type": "code",
   "execution_count": 113,
   "metadata": {
    "execution": {
     "iopub.execute_input": "2024-03-24T19:57:59.722704Z",
     "iopub.status.busy": "2024-03-24T19:57:59.722299Z",
     "iopub.status.idle": "2024-03-24T19:58:00.182600Z",
     "shell.execute_reply": "2024-03-24T19:58:00.181480Z",
     "shell.execute_reply.started": "2024-03-24T19:57:59.722665Z"
    }
   },
   "outputs": [
    {
     "name": "stderr",
     "output_type": "stream",
     "text": [
      "Some weights of DistilBertForSequenceClassification were not initialized from the model checkpoint at distilbert-base-uncased and are newly initialized: ['classifier.bias', 'classifier.weight', 'pre_classifier.bias', 'pre_classifier.weight']\n",
      "You should probably TRAIN this model on a down-stream task to be able to use it for predictions and inference.\n"
     ]
    }
   ],
   "source": [
    "from transformers import AutoModelForSequenceClassification\n",
    "\n",
    "num_labels=len(classes)\n",
    "device=torch.device(\"cuda\" if torch.cuda.is_available() else \"cpu\")\n",
    "model=AutoModelForSequenceClassification.from_pretrained(model_ckpt,num_labels=num_labels).to(device)"
   ]
  },
  {
   "cell_type": "code",
   "execution_count": 114,
   "metadata": {
    "execution": {
     "iopub.execute_input": "2024-03-24T19:58:00.184043Z",
     "iopub.status.busy": "2024-03-24T19:58:00.183725Z",
     "iopub.status.idle": "2024-03-24T19:58:00.191647Z",
     "shell.execute_reply": "2024-03-24T19:58:00.190740Z",
     "shell.execute_reply.started": "2024-03-24T19:58:00.184018Z"
    }
   },
   "outputs": [
    {
     "data": {
      "text/plain": [
       "device(type='cuda')"
      ]
     },
     "execution_count": 114,
     "metadata": {},
     "output_type": "execute_result"
    }
   ],
   "source": [
    "device"
   ]
  },
  {
   "cell_type": "code",
   "execution_count": 115,
   "metadata": {
    "execution": {
     "iopub.execute_input": "2024-03-24T19:58:00.193041Z",
     "iopub.status.busy": "2024-03-24T19:58:00.192675Z",
     "iopub.status.idle": "2024-03-24T19:58:00.199254Z",
     "shell.execute_reply": "2024-03-24T19:58:00.198397Z",
     "shell.execute_reply.started": "2024-03-24T19:58:00.192968Z"
    }
   },
   "outputs": [],
   "source": [
    "from transformers import TrainingArguments"
   ]
  },
  {
   "cell_type": "markdown",
   "metadata": {},
   "source": [
    "### Setting training arguments"
   ]
  },
  {
   "cell_type": "code",
   "execution_count": 116,
   "metadata": {
    "execution": {
     "iopub.execute_input": "2024-03-24T19:58:00.200644Z",
     "iopub.status.busy": "2024-03-24T19:58:00.200320Z",
     "iopub.status.idle": "2024-03-24T19:58:00.215400Z",
     "shell.execute_reply": "2024-03-24T19:58:00.214562Z",
     "shell.execute_reply.started": "2024-03-24T19:58:00.200620Z"
    }
   },
   "outputs": [],
   "source": [
    "batch_size=20\n",
    "model_name=\"distilbert-finetuned--emotion__\"\n",
    "\n",
    "training_args=TrainingArguments(output_dir=model_name,\n",
    "                               num_train_epochs=5,\n",
    "                               learning_rate=1e-5,\n",
    "                               per_device_train_batch_size=batch_size,\n",
    "                               per_device_eval_batch_size=batch_size,\n",
    "                               weight_decay=0.02,\n",
    "                               evaluation_strategy='epoch',\n",
    "                               disable_tqdm=False)"
   ]
  },
  {
   "cell_type": "markdown",
   "metadata": {},
   "source": [
    "### Performance metric function"
   ]
  },
  {
   "cell_type": "code",
   "execution_count": 117,
   "metadata": {
    "execution": {
     "iopub.execute_input": "2024-03-24T19:58:00.216937Z",
     "iopub.status.busy": "2024-03-24T19:58:00.216644Z",
     "iopub.status.idle": "2024-03-24T19:58:00.225662Z",
     "shell.execute_reply": "2024-03-24T19:58:00.224714Z",
     "shell.execute_reply.started": "2024-03-24T19:58:00.216903Z"
    }
   },
   "outputs": [],
   "source": [
    "from sklearn.metrics import accuracy_score, f1_score\n",
    "\n",
    "def compute_metrics(pred):\n",
    "    labels=pred.label_ids #actual label\n",
    "    preds=pred.predictions.argmax(-1) #predicted label\n",
    "    f1=f1_score(labels,preds,average='weighted')\n",
    "    acc=accuracy_score(labels,preds)\n",
    "    return {\"accuracy\":acc,\"f1\":f1}"
   ]
  },
  {
   "cell_type": "code",
   "execution_count": 118,
   "metadata": {
    "execution": {
     "iopub.execute_input": "2024-03-24T19:58:00.227437Z",
     "iopub.status.busy": "2024-03-24T19:58:00.226941Z",
     "iopub.status.idle": "2024-03-24T19:58:00.234634Z",
     "shell.execute_reply": "2024-03-24T19:58:00.233491Z",
     "shell.execute_reply.started": "2024-03-24T19:58:00.227365Z"
    }
   },
   "outputs": [],
   "source": [
    "from transformers import Trainer"
   ]
  },
  {
   "cell_type": "code",
   "execution_count": 119,
   "metadata": {
    "execution": {
     "iopub.execute_input": "2024-03-24T19:58:00.236587Z",
     "iopub.status.busy": "2024-03-24T19:58:00.236033Z",
     "iopub.status.idle": "2024-03-24T19:58:00.253386Z",
     "shell.execute_reply": "2024-03-24T19:58:00.252088Z",
     "shell.execute_reply.started": "2024-03-24T19:58:00.236557Z"
    }
   },
   "outputs": [
    {
     "name": "stderr",
     "output_type": "stream",
     "text": [
      "/opt/conda/lib/python3.10/site-packages/accelerate/accelerator.py:432: FutureWarning: Passing the following arguments to `Accelerator` is deprecated and will be removed in version 1.0 of Accelerate: dict_keys(['dispatch_batches', 'split_batches', 'even_batches', 'use_seedable_sampler']). Please pass an `accelerate.DataLoaderConfiguration` instead: \n",
      "dataloader_config = DataLoaderConfiguration(dispatch_batches=None, split_batches=False, even_batches=True, use_seedable_sampler=True)\n",
      "  warnings.warn(\n"
     ]
    }
   ],
   "source": [
    "trainer=Trainer(model=model,args=training_args,\n",
    "               compute_metrics=compute_metrics,\n",
    "               train_dataset=emotions_encoded['train'],\n",
    "               eval_dataset=emotions_encoded['validation'],\n",
    "                tokenizer=tokenizer)\n",
    "               "
   ]
  },
  {
   "cell_type": "markdown",
   "metadata": {},
   "source": [
    "### Training the model"
   ]
  },
  {
   "cell_type": "code",
   "execution_count": 120,
   "metadata": {
    "execution": {
     "iopub.execute_input": "2024-03-24T19:58:00.254752Z",
     "iopub.status.busy": "2024-03-24T19:58:00.254491Z",
     "iopub.status.idle": "2024-03-24T20:04:52.706049Z",
     "shell.execute_reply": "2024-03-24T20:04:52.705085Z",
     "shell.execute_reply.started": "2024-03-24T19:58:00.254730Z"
    }
   },
   "outputs": [
    {
     "data": {
      "text/html": [
       "\n",
       "    <div>\n",
       "      \n",
       "      <progress value='4000' max='4000' style='width:300px; height:20px; vertical-align: middle;'></progress>\n",
       "      [4000/4000 06:51, Epoch 5/5]\n",
       "    </div>\n",
       "    <table border=\"1\" class=\"dataframe\">\n",
       "  <thead>\n",
       " <tr style=\"text-align: left;\">\n",
       "      <th>Epoch</th>\n",
       "      <th>Training Loss</th>\n",
       "      <th>Validation Loss</th>\n",
       "      <th>Accuracy</th>\n",
       "      <th>F1</th>\n",
       "    </tr>\n",
       "  </thead>\n",
       "  <tbody>\n",
       "    <tr>\n",
       "      <td>1</td>\n",
       "      <td>0.929100</td>\n",
       "      <td>0.249092</td>\n",
       "      <td>0.914500</td>\n",
       "      <td>0.915286</td>\n",
       "    </tr>\n",
       "    <tr>\n",
       "      <td>2</td>\n",
       "      <td>0.200100</td>\n",
       "      <td>0.171790</td>\n",
       "      <td>0.933500</td>\n",
       "      <td>0.933813</td>\n",
       "    </tr>\n",
       "    <tr>\n",
       "      <td>3</td>\n",
       "      <td>0.149000</td>\n",
       "      <td>0.167852</td>\n",
       "      <td>0.934500</td>\n",
       "      <td>0.934722</td>\n",
       "    </tr>\n",
       "    <tr>\n",
       "      <td>4</td>\n",
       "      <td>0.111500</td>\n",
       "      <td>0.164828</td>\n",
       "      <td>0.933500</td>\n",
       "      <td>0.933482</td>\n",
       "    </tr>\n",
       "    <tr>\n",
       "      <td>5</td>\n",
       "      <td>0.091200</td>\n",
       "      <td>0.160204</td>\n",
       "      <td>0.934000</td>\n",
       "      <td>0.933742</td>\n",
       "    </tr>\n",
       "  </tbody>\n",
       "</table><p>"
      ],
      "text/plain": [
       "<IPython.core.display.HTML object>"
      ]
     },
     "metadata": {},
     "output_type": "display_data"
    },
    {
     "name": "stderr",
     "output_type": "stream",
     "text": [
      "Checkpoint destination directory distilbert-finetuned--emotion__/checkpoint-500 already exists and is non-empty. Saving will proceed but saved results may be invalid.\n",
      "Checkpoint destination directory distilbert-finetuned--emotion__/checkpoint-1000 already exists and is non-empty. Saving will proceed but saved results may be invalid.\n",
      "Checkpoint destination directory distilbert-finetuned--emotion__/checkpoint-1500 already exists and is non-empty. Saving will proceed but saved results may be invalid.\n",
      "Checkpoint destination directory distilbert-finetuned--emotion__/checkpoint-2000 already exists and is non-empty. Saving will proceed but saved results may be invalid.\n",
      "Checkpoint destination directory distilbert-finetuned--emotion__/checkpoint-2500 already exists and is non-empty. Saving will proceed but saved results may be invalid.\n",
      "Checkpoint destination directory distilbert-finetuned--emotion__/checkpoint-3000 already exists and is non-empty. Saving will proceed but saved results may be invalid.\n",
      "Checkpoint destination directory distilbert-finetuned--emotion__/checkpoint-3500 already exists and is non-empty. Saving will proceed but saved results may be invalid.\n",
      "Checkpoint destination directory distilbert-finetuned--emotion__/checkpoint-4000 already exists and is non-empty. Saving will proceed but saved results may be invalid.\n"
     ]
    },
    {
     "data": {
      "text/plain": [
       "TrainOutput(global_step=4000, training_loss=0.25103333377838133, metrics={'train_runtime': 412.0417, 'train_samples_per_second': 194.155, 'train_steps_per_second': 9.708, 'total_flos': 1800857154240000.0, 'train_loss': 0.25103333377838133, 'epoch': 5.0})"
      ]
     },
     "execution_count": 120,
     "metadata": {},
     "output_type": "execute_result"
    }
   ],
   "source": [
    "trainer.train()"
   ]
  },
  {
   "cell_type": "code",
   "execution_count": 121,
   "metadata": {
    "execution": {
     "iopub.execute_input": "2024-03-24T20:04:52.707826Z",
     "iopub.status.busy": "2024-03-24T20:04:52.707436Z",
     "iopub.status.idle": "2024-03-24T20:04:55.287936Z",
     "shell.execute_reply": "2024-03-24T20:04:55.286893Z",
     "shell.execute_reply.started": "2024-03-24T20:04:52.707786Z"
    }
   },
   "outputs": [
    {
     "data": {
      "text/html": [],
      "text/plain": [
       "<IPython.core.display.HTML object>"
      ]
     },
     "metadata": {},
     "output_type": "display_data"
    },
    {
     "data": {
      "text/plain": [
       "{'test_loss': 0.18197347223758698,\n",
       " 'test_accuracy': 0.922,\n",
       " 'test_f1': 0.9213590397596412,\n",
       " 'test_runtime': 2.5674,\n",
       " 'test_samples_per_second': 778.993,\n",
       " 'test_steps_per_second': 38.95}"
      ]
     },
     "execution_count": 121,
     "metadata": {},
     "output_type": "execute_result"
    }
   ],
   "source": [
    "preds_outputs=trainer.predict(emotions_encoded['test'])\n",
    "preds_outputs.metrics"
   ]
  },
  {
   "cell_type": "code",
   "execution_count": 122,
   "metadata": {
    "execution": {
     "iopub.execute_input": "2024-03-24T20:04:55.290062Z",
     "iopub.status.busy": "2024-03-24T20:04:55.289670Z",
     "iopub.status.idle": "2024-03-24T20:04:55.482588Z",
     "shell.execute_reply": "2024-03-24T20:04:55.481553Z",
     "shell.execute_reply.started": "2024-03-24T20:04:55.290023Z"
    }
   },
   "outputs": [],
   "source": [
    "import numpy as np\n",
    "y_preds=np.argmax(preds_outputs.predictions,axis=1)\n",
    "y_true=emotions_encoded['test'][:]['label']"
   ]
  },
  {
   "cell_type": "code",
   "execution_count": 123,
   "metadata": {
    "execution": {
     "iopub.execute_input": "2024-03-24T20:04:55.484110Z",
     "iopub.status.busy": "2024-03-24T20:04:55.483810Z",
     "iopub.status.idle": "2024-03-24T20:04:55.488893Z",
     "shell.execute_reply": "2024-03-24T20:04:55.487879Z",
     "shell.execute_reply.started": "2024-03-24T20:04:55.484085Z"
    }
   },
   "outputs": [],
   "source": [
    "from sklearn.metrics import classification_report"
   ]
  },
  {
   "cell_type": "code",
   "execution_count": 124,
   "metadata": {
    "execution": {
     "iopub.execute_input": "2024-03-24T20:04:55.491085Z",
     "iopub.status.busy": "2024-03-24T20:04:55.490331Z",
     "iopub.status.idle": "2024-03-24T20:04:55.502689Z",
     "shell.execute_reply": "2024-03-24T20:04:55.501821Z",
     "shell.execute_reply.started": "2024-03-24T20:04:55.491012Z"
    }
   },
   "outputs": [
    {
     "name": "stdout",
     "output_type": "stream",
     "text": [
      "['sadness', 'joy', 'love', 'anger', 'fear', 'surprise']\n"
     ]
    }
   ],
   "source": [
    "print(classes)"
   ]
  },
  {
   "cell_type": "markdown",
   "metadata": {},
   "source": [
    "### Performance on the test dataset"
   ]
  },
  {
   "cell_type": "code",
   "execution_count": 125,
   "metadata": {
    "execution": {
     "iopub.execute_input": "2024-03-24T20:04:55.503989Z",
     "iopub.status.busy": "2024-03-24T20:04:55.503713Z",
     "iopub.status.idle": "2024-03-24T20:04:55.525302Z",
     "shell.execute_reply": "2024-03-24T20:04:55.524210Z",
     "shell.execute_reply.started": "2024-03-24T20:04:55.503966Z"
    }
   },
   "outputs": [
    {
     "name": "stdout",
     "output_type": "stream",
     "text": [
      "              precision    recall  f1-score   support\n",
      "\n",
      "           0       0.96      0.97      0.96       581\n",
      "           1       0.94      0.94      0.94       695\n",
      "           2       0.79      0.82      0.81       159\n",
      "           3       0.92      0.92      0.92       275\n",
      "           4       0.88      0.92      0.90       224\n",
      "           5       0.82      0.62      0.71        66\n",
      "\n",
      "    accuracy                           0.92      2000\n",
      "   macro avg       0.89      0.87      0.87      2000\n",
      "weighted avg       0.92      0.92      0.92      2000\n",
      "\n"
     ]
    }
   ],
   "source": [
    "print(classification_report(y_true,y_preds))"
   ]
  },
  {
   "cell_type": "code",
   "execution_count": 126,
   "metadata": {
    "execution": {
     "iopub.execute_input": "2024-03-24T20:04:55.526864Z",
     "iopub.status.busy": "2024-03-24T20:04:55.526502Z",
     "iopub.status.idle": "2024-03-24T20:04:55.535881Z",
     "shell.execute_reply": "2024-03-24T20:04:55.534784Z",
     "shell.execute_reply.started": "2024-03-24T20:04:55.526831Z"
    }
   },
   "outputs": [
    {
     "data": {
      "text/plain": [
       "label_name\n",
       "joy         5362\n",
       "sadness     4666\n",
       "anger       2159\n",
       "fear        1937\n",
       "love        1304\n",
       "surprise     572\n",
       "Name: count, dtype: int64"
      ]
     },
     "execution_count": 126,
     "metadata": {},
     "output_type": "execute_result"
    }
   ],
   "source": [
    "label_counts"
   ]
  },
  {
   "cell_type": "code",
   "execution_count": 127,
   "metadata": {
    "execution": {
     "iopub.execute_input": "2024-03-24T20:04:55.538559Z",
     "iopub.status.busy": "2024-03-24T20:04:55.538091Z",
     "iopub.status.idle": "2024-03-24T20:04:55.548681Z",
     "shell.execute_reply": "2024-03-24T20:04:55.547620Z",
     "shell.execute_reply.started": "2024-03-24T20:04:55.538528Z"
    }
   },
   "outputs": [
    {
     "data": {
      "text/plain": [
       "'I love Natural Language Processing!.Tokenization is awesome'"
      ]
     },
     "execution_count": 127,
     "metadata": {},
     "output_type": "execute_result"
    }
   ],
   "source": [
    "text"
   ]
  },
  {
   "cell_type": "code",
   "execution_count": 128,
   "metadata": {
    "execution": {
     "iopub.execute_input": "2024-03-24T20:04:55.550295Z",
     "iopub.status.busy": "2024-03-24T20:04:55.549957Z",
     "iopub.status.idle": "2024-03-24T20:04:55.568008Z",
     "shell.execute_reply": "2024-03-24T20:04:55.566919Z",
     "shell.execute_reply.started": "2024-03-24T20:04:55.550255Z"
    }
   },
   "outputs": [
    {
     "data": {
      "text/plain": [
       "(1, 'joy')"
      ]
     },
     "execution_count": 128,
     "metadata": {},
     "output_type": "execute_result"
    }
   ],
   "source": [
    "input_encoded=tokenizer(text,return_tensors='pt').to(device)\n",
    "with torch.no_grad():\n",
    "    outputs=model(**input_encoded)\n",
    "\n",
    "logits=outputs.logits\n",
    "pred=torch.argmax(logits,dim=1).item()\n",
    "pred,classes[pred]"
   ]
  },
  {
   "cell_type": "code",
   "execution_count": 129,
   "metadata": {
    "execution": {
     "iopub.execute_input": "2024-03-24T20:04:55.570201Z",
     "iopub.status.busy": "2024-03-24T20:04:55.569552Z",
     "iopub.status.idle": "2024-03-24T20:04:55.585586Z",
     "shell.execute_reply": "2024-03-24T20:04:55.584606Z",
     "shell.execute_reply.started": "2024-03-24T20:04:55.570167Z"
    }
   },
   "outputs": [
    {
     "data": {
      "text/plain": [
       "(1, 'joy')"
      ]
     },
     "execution_count": 129,
     "metadata": {},
     "output_type": "execute_result"
    }
   ],
   "source": [
    "text=\"I want to watch a movie\"\n",
    "\n",
    "input_encoded=tokenizer(text,return_tensors='pt').to(device)\n",
    "with torch.no_grad():\n",
    "    outputs=model(**input_encoded)\n",
    "\n",
    "logits=outputs.logits\n",
    "pred=torch.argmax(logits,dim=1).item()\n",
    "pred,classes[pred]"
   ]
  },
  {
   "cell_type": "code",
   "execution_count": 130,
   "metadata": {
    "execution": {
     "iopub.execute_input": "2024-03-24T20:04:55.587329Z",
     "iopub.status.busy": "2024-03-24T20:04:55.586762Z",
     "iopub.status.idle": "2024-03-24T20:04:55.605432Z",
     "shell.execute_reply": "2024-03-24T20:04:55.604717Z",
     "shell.execute_reply.started": "2024-03-24T20:04:55.587298Z"
    }
   },
   "outputs": [
    {
     "data": {
      "text/plain": [
       "(3, 'anger')"
      ]
     },
     "execution_count": 130,
     "metadata": {},
     "output_type": "execute_result"
    }
   ],
   "source": [
    "text=\"I want to hit you\"\n",
    "\n",
    "input_encoded=tokenizer(text,return_tensors='pt').to(device)\n",
    "with torch.no_grad():\n",
    "    outputs=model(**input_encoded)\n",
    "\n",
    "logits=outputs.logits\n",
    "pred=torch.argmax(logits,dim=1).item()\n",
    "pred,classes[pred]"
   ]
  },
  {
   "cell_type": "code",
   "execution_count": null,
   "metadata": {},
   "outputs": [],
   "source": []
  }
 ],
 "metadata": {
  "kaggle": {
   "accelerator": "gpu",
   "dataSources": [],
   "dockerImageVersionId": 30674,
   "isGpuEnabled": true,
   "isInternetEnabled": true,
   "language": "python",
   "sourceType": "notebook"
  },
  "kernelspec": {
   "display_name": "Python 3 (ipykernel)",
   "language": "python",
   "name": "python3"
  },
  "language_info": {
   "codemirror_mode": {
    "name": "ipython",
    "version": 3
   },
   "file_extension": ".py",
   "mimetype": "text/x-python",
   "name": "python",
   "nbconvert_exporter": "python",
   "pygments_lexer": "ipython3",
   "version": "3.9.13"
  }
 },
 "nbformat": 4,
 "nbformat_minor": 4
}
